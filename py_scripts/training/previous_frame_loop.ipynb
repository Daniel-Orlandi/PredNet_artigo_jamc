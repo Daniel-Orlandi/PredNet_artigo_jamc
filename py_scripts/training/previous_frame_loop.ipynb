{
 "cells": [
  {
   "cell_type": "code",
   "execution_count": 34,
   "metadata": {},
   "outputs": [
    {
     "name": "stdout",
     "output_type": "stream",
     "text": [
      "10\n",
      "11\n",
      "12\n",
      "13\n",
      "14\n",
      "10\n",
      "11\n",
      "12\n",
      "13\n",
      "14\n",
      "10\n",
      "11\n",
      "12\n",
      "13\n",
      "14\n",
      "Pronto =)\n"
     ]
    }
   ],
   "source": [
    "from skimage.measure import compare_ssim as ssim\n",
    "from skimage import io\n",
    "import matplotlib.pyplot as plt\n",
    "import numpy as np\n",
    "from glob import glob\n",
    "import os.path\n",
    "\n",
    "def mse(imageA, imageB):\n",
    "\t# the 'Mean Squared Error' between the two images is the\n",
    "\t# sum of the squared difference between the two images;\n",
    "\t# NOTE: the two images must have the same dimension\n",
    "\terr = np.mean((imageA.astype(\"float\") - imageB.astype(\"float\")) ** 2)\n",
    "\terr /= float(imageA.shape[0] * imageA.shape[1])\n",
    "\t\n",
    "\t# return the MSE, the lower the error, the more \"similar\"\n",
    "\t# the two images are\n",
    "\treturn err\n",
    " \n",
    "def compare_images(imageA, imageB, title):\n",
    "\t# compute the mean squared error and structural similarity\n",
    "\t# index for the images\n",
    "\tm = mse(imageA, imageB)\n",
    "\ts = ssim(imageA, imageB,multichannel=True)\n",
    " \n",
    "\t# setup the figure\n",
    "\tfig = plt.figure(title)\n",
    "\tplt.suptitle(\"MSE: %.6f, SSIM: %.4f\" % (m, s))\n",
    " \n",
    "\t# show first image\n",
    "\tax = fig.add_subplot(1, 2, 1)\n",
    "\tplt.imshow(imageA, cmap = plt.cm.gray)\n",
    "\tplt.axis(\"off\")\n",
    " \n",
    "\t# show the second image\n",
    "\tax = fig.add_subplot(1, 2, 2)\n",
    "\tplt.imshow(imageB, cmap = plt.cm.gray)\n",
    "\tplt.axis(\"off\") \n",
    "    # show the images\n",
    "\tSAVE_DIR='/home/daniel/PredNet_artigo_jamc/kitti_results/prediction_plots_artigo_jamc_finetunned_scores/'\n",
    "\tplt.savefig(SAVE_DIR+title,dpi=300,bbox_inches='tight')\n",
    "\tplt.close()\n",
    "\tprint 'saving!!'\n",
    "\n",
    "DATA_DIR='/home/daniel/PredNet_artigo_jamc/kitti_results/prediction_plots_artigo_jamc_finetunned/'\n",
    "DATA_DIR_2='/home/daniel/PredNet_artigo_jamc/kitti_results/prediction_plots_artigo_jamc_finetunned/'\n",
    "obs = glob(DATA_DIR_2+'obs_*_*')\n",
    "pred = glob(DATA_DIR_2+'pred_*_*')\n",
    "obs = sorted(obs)\n",
    "pred= sorted(pred)\n",
    "obs_pred = zip(obs,pred)\n",
    "i = 1\n",
    "for each_obs, each_pred in obs_pred:\n",
    "    name_obs = os.path.basename(each_obs)\n",
    "    current_frame_index = name_obs[6:7]\n",
    "    if current_frame_index == '0':\n",
    "        previous_frame_index = 0\n",
    "        \n",
    "\n",
    "\n",
    "\n",
    "    elif  17 < i <= 22 or 32 < i <= 37 or 47 < i <= 52:\n",
    "        current_frame_index = name_obs[6:8]\n",
    "        previous_frame_index = int(current_frame_index) - 1\n",
    "\n",
    "    else:\n",
    "        previous_frame_index = int(current_frame_index) - 1\n",
    "        \n",
    "    #name_prev = os.path.basename()\n",
    "    #name_pred = os.path.basename(each_pred)\n",
    "    i += 1\n",
    "    \n",
    "    new_file_name = name_obs[0:6]\n",
    "    name_file =  new_file_name + str(current_frame_index) + '_' + new_file_name + str(previous_frame_index) + '.png'   \n",
    "    obs_processing = io.imread(DATA_DIR_2 + new_file_name + str(current_frame_index)+'.png')\n",
    "    pred_processing = io.imread(DATA_DIR_2 + new_file_name + str(previous_frame_index)+'.png')\n",
    "    compare_images(obs_processing,pred_processing,str(name_file))\n",
    "    print 'image: '+str(name_file)+' saved!' \n",
    "    \n",
    "print 'Pronto =)'\n"
   ]
  },
  {
   "cell_type": "code",
   "execution_count": 26,
   "metadata": {},
   "outputs": [
    {
     "name": "stdout",
     "output_type": "stream",
     "text": [
      " [['/home/daniel/PredNet_artigo_jamc/kitti_results/prediction_plots_artigo_jamc_finetunned/obs_0_9.png', '/home/daniel/PredNet_artigo_jamc/kitti_results/prediction_plots_artigo_jamc_finetunned/obs_1_9.png', '/home/daniel/PredNet_artigo_jamc/kitti_results/prediction_plots_artigo_jamc_finetunned/obs_2_9.png', '/home/daniel/PredNet_artigo_jamc/kitti_results/prediction_plots_artigo_jamc_finetunned/obs_3_9.png'], '/home/daniel/PredNet_artigo_jamc/kitti_results/prediction_plots_artigo_jamc_finetunned/obs_0_1.png', '/home/daniel/PredNet_artigo_jamc/kitti_results/prediction_plots_artigo_jamc_finetunned/obs_0_10.png', '/home/daniel/PredNet_artigo_jamc/kitti_results/prediction_plots_artigo_jamc_finetunned/obs_0_11.png', '/home/daniel/PredNet_artigo_jamc/kitti_results/prediction_plots_artigo_jamc_finetunned/obs_0_12.png', '/home/daniel/PredNet_artigo_jamc/kitti_results/prediction_plots_artigo_jamc_finetunned/obs_0_13.png', '/home/daniel/PredNet_artigo_jamc/kitti_results/prediction_plots_artigo_jamc_finetunned/obs_0_14.png', '/home/daniel/PredNet_artigo_jamc/kitti_results/prediction_plots_artigo_jamc_finetunned/obs_1_1.png', '/home/daniel/PredNet_artigo_jamc/kitti_results/prediction_plots_artigo_jamc_finetunned/obs_1_10.png', '/home/daniel/PredNet_artigo_jamc/kitti_results/prediction_plots_artigo_jamc_finetunned/obs_1_11.png', '/home/daniel/PredNet_artigo_jamc/kitti_results/prediction_plots_artigo_jamc_finetunned/obs_1_12.png', '/home/daniel/PredNet_artigo_jamc/kitti_results/prediction_plots_artigo_jamc_finetunned/obs_1_13.png', '/home/daniel/PredNet_artigo_jamc/kitti_results/prediction_plots_artigo_jamc_finetunned/obs_1_14.png', '/home/daniel/PredNet_artigo_jamc/kitti_results/prediction_plots_artigo_jamc_finetunned/obs_2_1.png', '/home/daniel/PredNet_artigo_jamc/kitti_results/prediction_plots_artigo_jamc_finetunned/obs_2_10.png', '/home/daniel/PredNet_artigo_jamc/kitti_results/prediction_plots_artigo_jamc_finetunned/obs_2_11.png', '/home/daniel/PredNet_artigo_jamc/kitti_results/prediction_plots_artigo_jamc_finetunned/obs_2_12.png', '/home/daniel/PredNet_artigo_jamc/kitti_results/prediction_plots_artigo_jamc_finetunned/obs_2_13.png', '/home/daniel/PredNet_artigo_jamc/kitti_results/prediction_plots_artigo_jamc_finetunned/obs_2_14.png', '/home/daniel/PredNet_artigo_jamc/kitti_results/prediction_plots_artigo_jamc_finetunned/obs_3_1.png', '/home/daniel/PredNet_artigo_jamc/kitti_results/prediction_plots_artigo_jamc_finetunned/obs_3_10.png', '/home/daniel/PredNet_artigo_jamc/kitti_results/prediction_plots_artigo_jamc_finetunned/obs_3_11.png', '/home/daniel/PredNet_artigo_jamc/kitti_results/prediction_plots_artigo_jamc_finetunned/obs_3_12.png', '/home/daniel/PredNet_artigo_jamc/kitti_results/prediction_plots_artigo_jamc_finetunned/obs_3_13.png', '/home/daniel/PredNet_artigo_jamc/kitti_results/prediction_plots_artigo_jamc_finetunned/obs_3_14.png']\n",
      "no\n",
      "here.\n",
      "comparison done: obs_0_10.png_pred_0_10.png"
     ]
    },
    {
     "ename": "NameError",
     "evalue": "name 'm' is not defined",
     "output_type": "error",
     "traceback": [
      "\u001b[0;31m\u001b[0m",
      "\u001b[0;31mNameError\u001b[0mTraceback (most recent call last)",
      "\u001b[0;32m<ipython-input-26-28b00b1b5b25>\u001b[0m in \u001b[0;36m<module>\u001b[0;34m()\u001b[0m\n\u001b[1;32m     55\u001b[0m         \u001b[0mssim\u001b[0m\u001b[0;34m.\u001b[0m\u001b[0mappend\u001b[0m\u001b[0;34m(\u001b[0m\u001b[0ms1\u001b[0m\u001b[0;34m)\u001b[0m\u001b[0;34m\u001b[0m\u001b[0m\n\u001b[1;32m     56\u001b[0m         \"\"\"\n\u001b[0;32m---> 57\u001b[0;31m         \u001b[0;32mprint\u001b[0m\u001b[0;34m'comparison done:'\u001b[0m\u001b[0;34m,\u001b[0m\u001b[0mname_file\u001b[0m \u001b[0;34m,\u001b[0m\u001b[0mm\u001b[0m \u001b[0;34m,\u001b[0m\u001b[0ms1\u001b[0m\u001b[0;34m\u001b[0m\u001b[0m\n\u001b[0m",
      "\u001b[0;31mNameError\u001b[0m: name 'm' is not defined"
     ]
    }
   ],
   "source": [
    "from skimage.measure import compare_ssim as s\n",
    "from skimage.measure import compare_mse as eqm\n",
    "from skimage import io\n",
    "import matplotlib.pyplot as plt\n",
    "import numpy as np\n",
    "from glob import glob\n",
    "import os.path\n",
    "\n",
    "SAVE_DIR='/home/daniel/PredNet_artigo_jamc/kitti_results/prediction_plots_artigo_jamc_finetunned/'\n",
    "obs = glob(SAVE_DIR+'obs_*_1*') \n",
    "obs2 = glob(SAVE_DIR+'obs_*_9*') \n",
    "\n",
    "\n",
    "obs = sorted(obs)\n",
    "obs2= sorted(obs2)\n",
    "\n",
    "obs.append(obs2)\n",
    "obs = sorted (obs)\n",
    "ssim=[]\n",
    "\n",
    "mse=[]\n",
    "\n",
    "obs_obs2 = zip(obs,obs2)\n",
    "print obs\n",
    "for each_obs, each_pred in obs_pred:\n",
    "    name_obs = os.path.basename(each_obs)\n",
    "    name_pred = os.path.basename(each_pred)\n",
    "    name_file =  name_obs+'_'+name_pred\n",
    "\n",
    "    if name_file == 'obs_0_1.png_pred_0_1.png':\n",
    "        print 'no'\n",
    "        continue\n",
    "\n",
    "    elif name_file == 'obs_1_1.png_pred_1_1.png':\n",
    "        print 'no'\n",
    "        continue\n",
    "\n",
    "    elif name_file == 'obs_2_1.png_pred_2_1.png':\n",
    "        print 'no'\n",
    "        continue\n",
    "\n",
    "    elif name_file == 'obs_3_1.png_pred_3_1.png':\n",
    "        print 'no'\n",
    "        continue\n",
    "\n",
    "    else:\n",
    "        print 'here.'\n",
    "        \"\"\"\n",
    "        obs_processing = io.imread(each_obs)\n",
    "        pred_processing = io.imread(each_pred)\n",
    "        m = eqm(obs_processing,pred_processing)\n",
    "        m /= float (obs_processing.shape[0]*obs_processing.shape[1])\n",
    "        mse.append(m)\n",
    "        s1 = s(obs_processing,pred_processing,multichannel=True )\n",
    "        ssim.append(s1)\n",
    "        \"\"\"\n",
    "        print'comparison done:',name_file ,m ,s1"
   ]
  },
  {
   "cell_type": "code",
   "execution_count": 82,
   "metadata": {
    "scrolled": true
   },
   "outputs": [
    {
     "name": "stdout",
     "output_type": "stream",
     "text": [
      "<type 'str'>\n",
      "obs_3_9_obs_3_8 no\n",
      "<type 'str'>\n",
      "obs_0_1_obs_0_0 no\n",
      "<type 'str'>\n",
      "<type 'str'>\n",
      "<type 'str'>\n",
      "<type 'str'>\n",
      "<type 'str'>\n",
      "<type 'str'>\n",
      "obs_1_1_obs_1_0 no\n",
      "<type 'str'>\n",
      "<type 'str'>\n",
      "<type 'str'>\n",
      "<type 'str'>\n",
      "<type 'str'>\n",
      "<type 'str'>\n",
      "obs_2_1_obs_2_0 no\n",
      "<type 'str'>\n",
      "<type 'str'>\n",
      "<type 'str'>\n",
      "<type 'str'>\n",
      "<type 'str'>\n",
      "<type 'str'>\n",
      "obs_3_1_obs_3_0 no\n",
      "<type 'str'>\n",
      "<type 'str'>\n",
      "<type 'str'>\n",
      "<type 'str'>\n",
      "<type 'str'>\n"
     ]
    }
   ],
   "source": [
    "\n",
    "\n",
    "for each_obs in obs:\n",
    "    name_obs = os.path.basename(str(each_obs))\n",
    "    set_index = int(name_obs[4:5])\n",
    "    file_index_obs = int(name_obs[6:7])\n",
    "    try:\n",
    "        file_index_alt = int(name_obs[6:8])\n",
    "        if file_index_alt >= 10:\n",
    "            file_index_obs = file_index_alt\n",
    "            prev_index_obs = file_index_obs - 1\n",
    "    except:\n",
    "        pass\n",
    "    prev_index_obs = file_index_obs - 1\n",
    "    \n",
    "    name_file =  name_obs[0:3] + '_' + str(set_index) + '_' + str(file_index_obs)+ '_' + name_obs[0:3] + '_' + str(set_index) + '_' + str(prev_index_obs)\n",
    "    print type(name_file)\n",
    "    if name_file[0:7] == name_obs[0:3] + '_' + str(set_index) + '_' + str(file_index_obs):\n",
    "        print name_file, 'no'\n",
    "        continue\n"
   ]
  },
  {
   "cell_type": "code",
   "execution_count": 66,
   "metadata": {},
   "outputs": [
    {
     "name": "stdout",
     "output_type": "stream",
     "text": [
      "/home/daniel/PredNet_artigo_jamc/kitti_results/prediction_plots_artigo_jamc_finetunned/obs_3_14.png\n"
     ]
    }
   ],
   "source": [
    "im_name = os.path.dirname(each_obs)+'/'+ name_obs[0:3]+ '_' + str(set_index) + '_' + str(file_index_obs) + '.png'\n",
    "print im_name"
   ]
  },
  {
   "cell_type": "code",
   "execution_count": 62,
   "metadata": {},
   "outputs": [
    {
     "name": "stdout",
     "output_type": "stream",
     "text": [
      "/home/daniel/PredNet_artigo_jamc/kitti_results/prediction_plots_artigo_jamc_finetunned\n"
     ]
    }
   ],
   "source": [
    "print (os.path.dirname(os.path.dirname(each_obs)+'/'+ name_obs[0:3]+ '_' + str(set_index) + '_' + str(file_index_obs) + '.png'))"
   ]
  },
  {
   "cell_type": "code",
   "execution_count": null,
   "metadata": {},
   "outputs": [],
   "source": []
  }
 ],
 "metadata": {
  "kernelspec": {
   "display_name": "Python 2",
   "language": "python",
   "name": "python2"
  },
  "language_info": {
   "codemirror_mode": {
    "name": "ipython",
    "version": 2
   },
   "file_extension": ".py",
   "mimetype": "text/x-python",
   "name": "python",
   "nbconvert_exporter": "python",
   "pygments_lexer": "ipython2",
   "version": "2.7.15"
  }
 },
 "nbformat": 4,
 "nbformat_minor": 2
}
