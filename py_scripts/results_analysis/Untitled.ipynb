{
 "cells": [
  {
   "cell_type": "code",
   "execution_count": 5,
   "metadata": {},
   "outputs": [],
   "source": [
    "import pandas as pd\n",
    "import matplotlib as plt\n",
    "import numpy as np\n"
   ]
  },
  {
   "cell_type": "code",
   "execution_count": 47,
   "metadata": {},
   "outputs": [],
   "source": [
    "file_1 = pd.read_csv('/home/daniel/PredNet_artigo_jamc/kitti_results/prediction_plots_artigo_jamc_finetunned/ssim_jamc_ft_scores',names=['Forecast-SSIM','Time'])\n",
    "file_2 = pd.read_csv('/home/daniel/PredNet_artigo_jamc/kitti_results/prediction_plots_artigo_jamc_finetunned/ssim_prev_fjamc_ft_scores',names=['Forecast-SSIM','Time'])"
   ]
  },
  {
   "cell_type": "code",
   "execution_count": 49,
   "metadata": {},
   "outputs": [
    {
     "name": "stdout",
     "output_type": "stream",
     "text": [
      "    Forecast-SSIM  Time\n",
      "0        0.957857  15.0\n",
      "1        0.926375  30.0\n",
      "2        0.909219  45.0\n",
      "3        0.894288  60.0\n",
      "4        0.883460  75.0\n",
      "5        0.961087  15.0\n",
      "6        0.930704  30.0\n",
      "7        0.914121  45.0\n",
      "8        0.898429  60.0\n",
      "9        0.887308  75.0\n",
      "10       0.966473  15.0\n",
      "11       0.938880  30.0\n",
      "12       0.921767  45.0\n",
      "13       0.908848  60.0\n",
      "14       0.898670  75.0\n",
      "15       0.967714  15.0\n",
      "16       0.942892  30.0\n",
      "17       0.927197  45.0\n",
      "18       0.911295  60.0\n",
      "19       0.898934  75.0\n"
     ]
    },
    {
     "data": {
      "text/plain": [
       "0    15.0\n",
       "1    30.0\n",
       "2    45.0\n",
       "3    60.0\n",
       "4    75.0\n",
       "Name: Time, dtype: float64"
      ]
     },
     "execution_count": 49,
     "metadata": {},
     "output_type": "execute_result"
    }
   ],
   "source": [
    "f1_dataframe = pd.DataFrame(file_1)\n",
    "print f1_dataframe\n",
    "time_axis = f1_dataframe['Time'][0:5]\n"
   ]
  },
  {
   "cell_type": "code",
   "execution_count": 15,
   "metadata": {},
   "outputs": [
    {
     "name": "stdout",
     "output_type": "stream",
     "text": [
      "    9.578572424686517817e-01  1.500000000000000000e+01\n",
      "0                   0.926375                      30.0\n",
      "1                   0.909219                      45.0\n",
      "2                   0.894288                      60.0\n",
      "3                   0.883460                      75.0\n",
      "4                   0.961087                      15.0\n",
      "5                   0.930704                      30.0\n",
      "6                   0.914121                      45.0\n",
      "7                   0.898429                      60.0\n",
      "8                   0.887308                      75.0\n",
      "9                   0.966473                      15.0\n",
      "10                  0.938880                      30.0\n",
      "11                  0.921767                      45.0\n",
      "12                  0.908848                      60.0\n",
      "13                  0.898670                      75.0\n",
      "14                  0.967714                      15.0\n",
      "15                  0.942892                      30.0\n",
      "16                  0.927197                      45.0\n",
      "17                  0.911295                      60.0\n",
      "18                  0.898934                      75.0\n"
     ]
    }
   ],
   "source": [
    "x = time_axis\n",
    "y = f1_dataframe['Forecast-SSIM'][0:4]\n",
    "z = f1_dataframe['Forecast-SSIM'][5:9] \n",
    "k = f1_dataframe['Forecast-SSIM'][10:4]\n"
   ]
  },
  {
   "cell_type": "code",
   "execution_count": 9,
   "metadata": {},
   "outputs": [],
   "source": [
    "ssim_dict = {'ssim':[],'forecast time':[]}"
   ]
  },
  {
   "cell_type": "code",
   "execution_count": null,
   "metadata": {},
   "outputs": [],
   "source": []
  }
 ],
 "metadata": {
  "kernelspec": {
   "display_name": "Python 2",
   "language": "python",
   "name": "python2"
  },
  "language_info": {
   "codemirror_mode": {
    "name": "ipython",
    "version": 2
   },
   "file_extension": ".py",
   "mimetype": "text/x-python",
   "name": "python",
   "nbconvert_exporter": "python",
   "pygments_lexer": "ipython2",
   "version": "2.7.15"
  }
 },
 "nbformat": 4,
 "nbformat_minor": 2
}
