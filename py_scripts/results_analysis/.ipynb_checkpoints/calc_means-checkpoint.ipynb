{
 "cells": [
  {
   "cell_type": "code",
   "execution_count": 111,
   "metadata": {},
   "outputs": [
    {
     "name": "stdout",
     "output_type": "stream",
     "text": [
      "{75: 0.9404852127374455, 60: 0.9402721702156609, 45: 0.9405295750625462, 30: 0.9400618727207555, 15: 0.9401468309710856}\n",
      "{75: 0.8920929845511364, 60: 0.9032147299640652, 45: 0.9180759524343424, 30: 0.9347127940594077, 15: 0.9632825918638956}\n",
      "{75: 9.560245805363012e-05, 60: 7.827376469360152e-05, 45: 5.9150945037812506e-05, 30: 4.085412792295026e-05, 15: 1.732224950841581e-05}\n",
      "{75: 3.512040436047382e-05, 60: 3.554110448655319e-05, 45: 3.496638312128856e-05, 30: 3.585413116647146e-05, 15: 3.5650934102044425e-05}\n"
     ]
    }
   ],
   "source": [
    "import pandas as pd\n",
    "import numpy as np\n",
    "import matplotlib.pyplot as plt\n",
    "from decimal import Decimal\n",
    "import matplotlib.patches as mpatches\n",
    "\n",
    "\n",
    "#Importing data with pandas\n",
    "\n",
    "file_1 = pd.read_csv('/home/daniel/PredNet_artigo_jamc/kitti_results/prediction_plots_artigo_jamc_finetunned/mse_jamc_ft_scores', names=['MSE','Time(min)'])\n",
    "\n",
    "file_2_prev = pd.read_csv('/home/daniel/PredNet_artigo_jamc/kitti_results/prediction_plots_artigo_jamc_finetunned/mse_prev_fjamc_ft_scores', names=['MSE Previous','Time(min)'])\n",
    "\n",
    "file_1_ssim = pd.read_csv('/home/daniel/PredNet_artigo_jamc/kitti_results/prediction_plots_artigo_jamc_finetunned/ssim_jamc_ft_scores', names=['SSIM','Time(min)'])\n",
    "\n",
    "file_2_ssim_prev = pd.read_csv('/home/daniel/PredNet_artigo_jamc/kitti_results/prediction_plots_artigo_jamc_finetunned/ssim_prev_fjamc_ft_scores', names=['SSIM Previous','Time(min)'])\n",
    "\n",
    "mse_df = pd.DataFrame(file_1)\n",
    "mse_df_prev = pd.DataFrame(file_2_prev)\n",
    "ssim_df = pd.DataFrame(file_1_ssim)\n",
    "ssim_prev_df = pd.DataFrame(file_2_ssim_prev)\n",
    "\n",
    "ssim_prev_df = ssim_prev_df.loc[0:20]\n",
    "ssim_df = ssim_df.loc[0:20]\n",
    "mse_df = mse_df.loc[0:20]\n",
    "mse_df_prev = mse_df_prev[0:20]\n",
    "\n",
    "# Function to calculate the mean over timestep and return a dict\n",
    "def calc_mean(d_set, var_name, var_time):\n",
    "    mean = []\n",
    "    results_dict = {}\n",
    "    time_axis = [15, 30, 45, 60, 75]\n",
    "    \n",
    "    for each_time_stamp in time_axis:\n",
    "        pre_mean = d_set.loc[d_set[var_time] == each_time_stamp]\n",
    "        out_value = np.asarray(pre_mean)\n",
    "        out_value = np.mean(out_value,0)\n",
    "        out_value = out_value[0]\n",
    "        \n",
    "        results_dict[each_time_stamp] = out_value\n",
    "    print results_dict   \n",
    "    return results_dict\n",
    "\n",
    "############################################################################################################################\n",
    "\n",
    "mean_SSIM_Previous = calc_mean(ssim_prev_df, var_time='Time(min)', var_name='SSIM Previous')\n",
    "\n",
    "mean_SSIM = calc_mean(ssim_df, var_time='Time(min)', var_name='SSIM')\n",
    "\n",
    "mean_MSE = calc_mean(mse_df, var_time='Time(min)', var_name='MSE')\n",
    "\n",
    "mean_MSE_Previous = calc_mean(mse_df_prev, var_time='Time(min)', var_name='MSE Previous')"
   ]
  },
  {
   "cell_type": "code",
   "execution_count": 112,
   "metadata": {},
   "outputs": [
    {
     "data": {
      "image/png": "[encoded data removed]",
      "text/plain": [
       "<Figure size 432x288 with 1 Axes>"
      ]
     },
     "metadata": {},
     "output_type": "display_data"
    }
   ],
   "source": [
    "# Set up data.\n",
    "\n",
    "def convert_to_list(dict0):\n",
    "    res_list = list(reversed(dict0.values()))\n",
    "    return res_list\n",
    "\n",
    "d1 = convert_to_list(mean_MSE)\n",
    "#d2 = convert_to_list(mean_MSE_Previous)\n",
    "\n",
    "\n",
    "ind = np.arange(len(d1))\n",
    "width = 0.73\n",
    "fig, ax = plt.subplots() \n",
    "p1 = ax.bar(ind, d1, width = -width*0.5, align = 'edge', color='xkcd:orange')\n",
    "#p2 = ax.bar(ind, d2, width = 0.5*width, align = 'edge', color='xkcd:azure')  # Uncomment for previous frames be included in plot.\n",
    "\n",
    "# Graph Title.\n",
    "ax.set_title('Mean MSE by forecast time', fontsize = 15)\n",
    "\n",
    "# Axis Label.\n",
    "ax.set_ylabel('MSE', fontsize = 13)\n",
    "ax.set_xlabel('Time', fontsize = 13)\n",
    "\n",
    "# x Ticks.\n",
    "ax.set_xticks(ind)\n",
    "ax.set_xticklabels(('15 min', '30 min', '45 min', '60 min', '75 min'))\n",
    "\n",
    "# y Ticks.\n",
    "ax.set_yticks(np.arange(0, 0.00032, 0.00002))\n",
    "ax.set_ylim(0.00000, 0.00038)\n",
    "ax.ticklabel_format(axis = 'y', style='sci', scilimits = (0 , 0.00015 ))\n",
    "\n",
    "# legend\n",
    "#azure_patch = mpatches.Patch(color='xkcd:azure', label='Previous Frame MSE')\n",
    "\n",
    "orange_patch = mpatches.Patch(color='xkcd:orange', label='Forecast MSE')\n",
    "\n",
    "#ax.legend(handles=[azure_patch,orange_patch]) # Uncomment for previous frames be included in plot.\n",
    "\n",
    "ax.legend(handles=[orange_patch]) # Forecast data only. Comment for previous frames be included in plot.\n",
    "\n",
    "# Text over bars.\n",
    "def label_above_bar (data):\n",
    "    for each_data in data:         \n",
    "        height = each_data.get_height()\n",
    "        ax.text(each_data.get_x() + each_data.get_width()/2., 1.05*height, str('{0:.1E}'.format(Decimal(height))), ha = 'center', va='bottom')\n",
    "label_above_bar(p1)\n",
    "# label_above_bar(p2) # Uncomment for previous frames be included in plot.\n",
    "\n",
    "#Save and show barplot.\n",
    "plt.savefig('/home/daniel/PredNet_artigo_jamc/kitti_results/plots/mean_mse_by_forecast_time_ft_frcst_only_1.jpg',format='jpg', dpi = 400)\n",
    "plt.show()"
   ]
  },
  {
   "cell_type": "code",
   "execution_count": 113,
   "metadata": {},
   "outputs": [
    {
     "data": {
      "image/png": "[encoded data removed]",
      "text/plain": [
       "<Figure size 432x288 with 1 Axes>"
      ]
     },
     "metadata": {},
     "output_type": "display_data"
    }
   ],
   "source": [
    "# Set up data.\n",
    "\n",
    "def convert_to_list(dict0):\n",
    "    res_list = list(reversed(dict0.values()))\n",
    "    return res_list\n",
    "\n",
    "d1 = convert_to_list(mean_SSIM)\n",
    "#d2 = convert_to_list(mean_SSIM_Previous)\n",
    "\n",
    "\n",
    "ind = np.arange(len(d1))\n",
    "width = 0.73\n",
    "fig, ax = plt.subplots() \n",
    "p1 = ax.bar(ind, d1, width = -width*0.5, align = 'edge', color='xkcd:orange')\n",
    "#p2 = ax.bar(ind, d2, width = 0.5*width, align = 'edge', color='xkcd:azure')  Uncomment for previous frames be included in plot.\n",
    "\n",
    "# Graph Title.\n",
    "ax.set_title('Mean SSIM by forecast time', fontsize = 15)\n",
    "\n",
    "# Axis Label.\n",
    "ax.set_ylabel('SSIM', fontsize = 13)\n",
    "ax.set_xlabel('Time', fontsize = 13)\n",
    "\n",
    "# x Ticks.\n",
    "ax.set_xticks(ind)\n",
    "ax.set_xticklabels(('15 min', '30 min', '45 min', '60 min', '75 min'))\n",
    "\n",
    "# y Ticks.\n",
    "ax.set_yticks(np.arange(0, 1.2, 0.2))\n",
    "ax.set_ylim(0, 1.3)\n",
    "\n",
    "\n",
    "# legend\n",
    "#azure_patch = mpatches.Patch(color='xkcd:azure', label='Previous Frame SSIM') Uncomment for previous frames be included in plot.\n",
    "\n",
    "orange_patch = mpatches.Patch(color='xkcd:orange', label='Forecast SSIM')\n",
    "\n",
    "#ax.legend(handles=[azure_patch,orange_patch]) Comment for previous frames be included in plot.\n",
    "\n",
    "ax.legend(handles=[orange_patch])\n",
    "\n",
    "# Text over bars.\n",
    "def label_above_bar (data):\n",
    "    for each_data in data:         \n",
    "        height = each_data.get_height()\n",
    "        ax.text(each_data.get_x() + each_data.get_width()/2., 1.05*height, str('%.2f' %(height)), ha = 'center', va='bottom')\n",
    "label_above_bar(p1)\n",
    "#label_above_bar(p2) Uncomment for previous frames be included in plot.\n",
    "\n",
    "\n",
    "plt.savefig('/home/daniel/PredNet_artigo_jamc/kitti_results/plots/mean_ssim_by_forecast_time_ft_rcst_only_1.jpg',format='jpg', dpi = 400)\n",
    "plt.show()"
   ]
  },
  {
   "cell_type": "code",
   "execution_count": null,
   "metadata": {},
   "outputs": [],
   "source": []
  }
 ],
 "metadata": {
  "kernelspec": {
   "display_name": "Python 2",
   "language": "python",
   "name": "python2"
  },
  "language_info": {
   "codemirror_mode": {
    "name": "ipython",
    "version": 2
   },
   "file_extension": ".py",
   "mimetype": "text/x-python",
   "name": "python",
   "nbconvert_exporter": "python",
   "pygments_lexer": "ipython2",
   "version": "2.7.15"
  }
 },
 "nbformat": 4,
 "nbformat_minor": 2
}
