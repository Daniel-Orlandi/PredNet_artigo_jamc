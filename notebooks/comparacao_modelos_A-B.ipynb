{
 "cells": [
  {
   "cell_type": "code",
   "execution_count": null,
   "metadata": {},
   "outputs": [],
   "source": [
    "from skimage.measure import compare_ssim as s\n",
    "from skimage.measure import compare_mse as eqm\n",
    "from skimage import io\n",
    "import matplotlib.pyplot as plt\n",
    "import numpy as np\n",
    "from glob import glob\n",
    "import os.path\n"
   ]
  },
  {
   "cell_type": "code",
   "execution_count": 2,
   "metadata": {
    "collapsed": true
   },
   "outputs": [],
   "source": [
    "DATA_DIR='/home/daniel/AnacondaProjects/prednet-master_2/kitti_results/'\n",
    "resp = raw_input('deseja mudar a pasta de salvamento ?')\n",
    "if str(resp) == 'yes' or str(resp) == 'sim' or str(resp) == 's' or str(resp) == 'y':\n",
    "    save_dir_name = raw_input('Pasta onde deseja salvar')\n",
    "    SAVE_DIR = os.path.join(DATA_DIR,str(save_dir_name))\n",
    "else:\n",
    "    SAVE_DIR = DATA_DIR+'prediction_plots_tw'\n",
    "print'os arquivos serão salvos em:'+ SAVE_DIR\n",
    "resp = raw_input('deseja mudar o nome do arquivo ?')\n",
    "if str(resp) == 'yes' or str(resp) == 'sim' or str(resp) == 's' or str(resp) == 'y':\n",
    "    arquivo_name = raw_input('Nome com o qual deseja salvar os resultados')\n",
    "    name = str(arquivo_name)\n",
    "else:\n",
    "    name = 'tw'\n",
    "print'os arquivos terão em parte do nome:'+ name"
   ]
  },
  {
   "cell_type": "code",
   "execution_count": null,
   "metadata": {},
   "outputs": [
    {
     "name": "stdout",
     "output_type": "stream",
     "text": [
      "no\n",
      "comparison done: obs_0_10.png_pred_0_10.png 2.11539282423e-05 0.952365518456\n",
      "comparison done: obs_0_11.png_pred_0_11.png 4.37969901328e-05 0.925319106456\n",
      "comparison done: obs_0_12.png_pred_0_12.png 5.03602414811e-05 0.917223329208\n",
      "comparison done: obs_0_13.png_pred_0_13.png 6.62616875671e-05 0.906820032823\n",
      "comparison done: obs_0_14.png_pred_0_14.png 7.47904784064e-05 0.901703138606\n",
      "no\n",
      "comparison done: obs_1_10.png_pred_1_10.png 1.36523214554e-05 0.957540748857\n",
      "comparison done: obs_1_11.png_pred_1_11.png 3.09988737097e-05 0.931598499208\n",
      "comparison done: obs_1_12.png_pred_1_12.png 3.80392741399e-05 0.922397467468\n",
      "comparison done: obs_1_13.png_pred_1_13.png 4.96776518376e-05 0.911033782942\n",
      "comparison done: obs_1_14.png_pred_1_14.png 5.6612470843e-05 0.904518140523\n",
      "no\n",
      "comparison done: obs_2_10.png_pred_2_10.png 1.43700868135e-05 0.962037887455\n",
      "comparison done: obs_2_11.png_pred_2_11.png 3.0138879816e-05 0.937158811242\n",
      "comparison done: obs_2_12.png_pred_2_12.png 3.54096180791e-05 0.927108804959\n",
      "comparison done: obs_2_13.png_pred_2_13.png 4.63808878468e-05 0.915877432901\n",
      "comparison done: obs_2_14.png_pred_2_14.png 4.97269150086e-05 0.909894188638\n",
      "no\n",
      "comparison done: obs_3_10.png_pred_3_10.png 9.24095183288e-06 0.965996252532\n",
      "comparison done: obs_3_11.png_pred_3_11.png 1.95187896273e-05 0.943317835636\n",
      "comparison done: obs_3_12.png_pred_3_12.png 2.48973712371e-05 0.934172797145\n",
      "comparison done: obs_3_13.png_pred_3_13.png 3.26050830058e-05 0.922263275616\n"
     ]
    }
   ],
   "source": [
    "obs = glob(SAVE_DIR+'obs_*_1*') \n",
    "pred = glob(SAVE_DIR+'pred_*_1*')\n",
    "obs = sorted(obs)\n",
    "pred= sorted(pred)\n",
    "ssim=[]\n",
    "mse=[]\n",
    "obs_pred = zip(obs,pred)\n",
    "for each_obs, each_pred in obs_pred:\n",
    "    name_obs = os.path.basename(each_obs)\n",
    "    name_pred = os.path.basename(each_pred)\n",
    "    name_file =  name_obs+'_'+name_pred\n",
    "    if name_file == 'obs_0_1.png_pred_0_1.png':\n",
    "        print 'no'\n",
    "        continue\n",
    "    elif name_file == 'obs_1_1.png_pred_1_1.png':\n",
    "        print 'no'\n",
    "        continue\n",
    "    elif name_file == 'obs_2_1.png_pred_2_1.png':\n",
    "        print 'no'\n",
    "        continue\n",
    "    elif name_file == 'obs_3_1.png_pred_3_1.png':\n",
    "        print 'no'\n",
    "        continue\n",
    "    else:\n",
    "        obs_processing = io.imread(each_obs)\n",
    "        pred_processing = io.imread(each_pred)\n",
    "        m = eqm(obs_processing,pred_processing)\n",
    "        m /= float (obs_processing.shape[0]*obs_processing.shape[1])\n",
    "        mse.append(m)\n",
    "        s1 = s(obs_processing,pred_processing,multichannel=True )\n",
    "        ssim.append(s1)\n",
    "        print'comparison done:',name_file ,m ,s1\n",
    "print 'Pronto =)'\n",
    "count = 15\n",
    "mse_tempo = np.zeros((20,2))\n",
    "i=0\n",
    "tempo=15 \n",
    "for each_mse in mse:\n",
    "    if tempo > 75:\n",
    "        tempo = 15\n",
    "    mse_tempo[i][0]=each_mse\n",
    "    mse_tempo[i][1]=tempo\n",
    "    i+=1\n",
    "    tempo+=15\n",
    "np.savetxt(SAVE_DIR+'mse_'+name,mse_tempo, delimiter=',')\n",
    "count = 15\n",
    "ssim_tempo = np.zeros((20,2))\n",
    "i=0\n",
    "tempo=15 \n",
    "for each_ssim in ssim:\n",
    "    if tempo > 75:\n",
    "        tempo = 15\n",
    "    ssim_tempo[i][0]=each_ssim\n",
    "    ssim_tempo[i][1]=tempo\n",
    "    i+=1\n",
    "    tempo+=15\n",
    "np.savetxt(SAVE_DIR+'ssim_'+name,ssim_tempo, delimiter=',')\n",
    "print 'arquivos prontos e salvos em: ',SAVE_DIR   \n"
   ]
  },
  {
   "cell_type": "code",
   "execution_count": null,
   "metadata": {
    "collapsed": true
   },
   "outputs": [],
   "source": []
  }
 ],
 "metadata": {
  "kernelspec": {
   "display_name": "Python 2",
   "language": "python",
   "name": "python2"
  },
  "language_info": {
   "codemirror_mode": {
    "name": "ipython",
    "version": 2
   },
   "file_extension": ".py",
   "mimetype": "text/x-python",
   "name": "python",
   "nbconvert_exporter": "python",
   "pygments_lexer": "ipython2",
   "version": "2.7.13"
  }
 },
 "nbformat": 4,
 "nbformat_minor": 2
}
