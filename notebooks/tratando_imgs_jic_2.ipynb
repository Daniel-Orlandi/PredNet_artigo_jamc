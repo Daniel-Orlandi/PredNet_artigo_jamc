{
 "cells": [
  {
   "cell_type": "code",
   "execution_count": 4,
   "metadata": {},
   "outputs": [],
   "source": [
    "import os\n",
    "import requests\n",
    "import numpy as np\n",
    "from scipy.misc import imread, imresize, imshow\n",
    "import hickle as hkl\n",
    "from kitti_settings import *\n",
    "from glob import glob\n",
    "import matplotlib.pyplot as plot\n",
    "import matplotlib.gridspec as gridspec\n",
    "from PIL import Image\n",
    "from skimage import *"
   ]
  },
  {
   "cell_type": "code",
   "execution_count": 5,
   "metadata": {},
   "outputs": [
    {
     "name": "stdout",
     "output_type": "stream",
     "text": [
      "deseja mudar os nomes dos arquivos ?y\n",
      "Previsto-X_hat:a\n",
      "Observado-X_test:b\n",
      "nome dos arquivos:/home/daniel/AnacondaProjects/prednet-master_2/kitti_results/hdf-result/a\n",
      "/home/daniel/AnacondaProjects/prednet-master_2/kitti_results/hdf-result/b\n",
      "deseja mudar a pasta de salvamento ?s\n",
      "Pasta onde deseja salvara\n",
      "/home/daniel/AnacondaProjects/prednet-master_2/kitti_results/a\n"
     ]
    }
   ],
   "source": [
    "LOAD_DIR = '/home/daniel/AnacondaProjects/prednet-master_2/kitti_results/hdf-result/'\n",
    "DATA_DIR = '/home/daniel/AnacondaProjects/prednet-master_2/kitti_results/'\n",
    "if not os.path.exists(DATA_DIR):\n",
    "    os.mkdir(DATA_DIR)\n",
    "resp = raw_input('deseja mudar os nomes dos arquivos ?')\n",
    "if str(resp) == 'yes' or str(resp) == 'sim' or str(resp) == 's' or str(resp) == 'y':\n",
    "    pred_hkl = raw_input('Previsto-X_hat:') \n",
    "    obs_hkl = raw_input('Observado-X_test:')\n",
    "    pred_file = os.path.join(LOAD_DIR, str(pred_hkl))\n",
    "    obs_file = os.path.join(LOAD_DIR,str(obs_hkl))\n",
    "else:\n",
    "    pred_file = os.path.join(LOAD_DIR,'X_hat_test_model_t5_ptw.hkl')\n",
    "    obs_file = os.path.join(LOAD_DIR,'X_test_model_t5_ptw.hkl')\n",
    "print 'nome dos arquivos:'+ pred_file+'\\n'+obs_file\n",
    "pred = hkl.load(pred_file)\n",
    "obs = hkl.load(obs_file)\n",
    "print pred.shape\n",
    "print obs.shape\n",
    "resp = raw_input('deseja mudar a pasta de salvamento ?')\n",
    "if str(resp) == 'yes' or str(resp) == 'sim' or str(resp) == 's' or str(resp) == 'y':\n",
    "    save_dir_name = raw_input('Pasta onde deseja salvar')\n",
    "    SAVE_DIR = os.path.join(DATA_DIR,str(save_dir_name))\n",
    "else:\n",
    "    SAVE_DIR = DATA_DIR+'prediction_plots_tw'\n",
    "print'os arquivos serão salvos em:'+ SAVE_DIR"
   ]
  },
  {
   "cell_type": "code",
   "execution_count": 3,
   "metadata": {},
   "outputs": [
    {
     "name": "stdout",
     "output_type": "stream",
     "text": [
      "(315, 14, 128, 160, 3)\n",
      "\n"
     ]
    }
   ],
   "source": [
    "print pred[:, 1:].shape\n",
    "nt=15\n",
    "n_plot=15\n",
    "plot_idx = np.random.permutation(pred.shape[0])[:n_plot]\n",
    "print "
   ]
  },
  {
   "cell_type": "code",
   "execution_count": null,
   "metadata": {
    "collapsed": true
   },
   "outputs": [],
   "source": [
    "for i in range(4):\n",
    "    for t in range (nt): \n",
    "        img = pred[i,t]    \n",
    "        plot.imshow(img,aspect='auto')\n",
    "        xlim, ylim = plot.xlim(), plot.ylim()\n",
    "        plot.xlim(xlim)\n",
    "        plot.ylim(ylim)   \n",
    "        plot.tick_params(axis='both', which='both', bottom='off', top='off', left='off', right='off', labelbottom='off', labelleft='off')\n",
    "        plot.savefig(SAVE_DIR+'/'+'pred_'+str(i)+'_'+str(t)+'.eps',dpi=600,bbox_inches='tight')\n",
    "\n",
    "for i in range(4):\n",
    "    for t in range (nt): \n",
    "        img = obs[i,t]    \n",
    "        plot.imshow(img,aspect='auto')\n",
    "        xlim, ylim = plot.xlim(), plot.ylim()\n",
    "        plot.xlim(xlim)\n",
    "        plot.ylim(ylim)   \n",
    "        plot.tick_params(axis='both', which='both', bottom='off', top='off', left='off', right='off', labelbottom='off', labelleft='off')\n",
    "        plot.savefig(SAVE_DIR+'/'+'obs_'+str(i)+'_'+str(t)+'.eps',dpi=600,bbox_inches='tight')\n",
    "    \n",
    "print 'Pronto'"
   ]
  },
  {
   "cell_type": "code",
   "execution_count": null,
   "metadata": {
    "collapsed": true
   },
   "outputs": [],
   "source": []
  }
 ],
 "metadata": {
  "kernelspec": {
   "display_name": "Python 2",
   "language": "python",
   "name": "python2"
  },
  "language_info": {
   "codemirror_mode": {
    "name": "ipython",
    "version": 2
   },
   "file_extension": ".py",
   "mimetype": "text/x-python",
   "name": "python",
   "nbconvert_exporter": "python",
   "pygments_lexer": "ipython2",
   "version": "2.7.13"
  }
 },
 "nbformat": 4,
 "nbformat_minor": 2
}
