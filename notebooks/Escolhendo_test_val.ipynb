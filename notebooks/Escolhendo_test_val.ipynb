{
 "cells": [
  {
   "cell_type": "code",
   "execution_count": 1,
   "metadata": {
    "collapsed": true
   },
   "outputs": [],
   "source": [
    "import hickle as hkl\n",
    "import random\n",
    "from glob import glob \n",
    "import random\n",
    "import os.path\n",
    "from collections import OrderedDict"
   ]
  },
  {
   "cell_type": "code",
   "execution_count": 4,
   "metadata": {},
   "outputs": [
    {
     "name": "stdout",
     "output_type": "stream",
     "text": [
      "34269\n",
      "34100\n",
      "34486\n",
      "Imagens para teste: 15428.0 , 160.708333333 Dias\n",
      "Imagens para Validar: 5142.0 , 53.5625 Dias\n",
      "Imagens no conjunto de treinamento: 82285 , 857 Dias\n",
      "Sequencias Treinamento: 5485\n",
      "Sequencias Teste: 1028.53333333\n",
      "Sequencias Val: 342.8\n"
     ]
    }
   ],
   "source": [
    "DATA_DIR = glob('/media/daniel/Local-Disk-HDD-500GB/IC/IC_GEPAC/dados/dados_prednet_mono/raw/2013/*/*')\n",
    "DATA_DIR_2 = glob('/media/daniel/Local-Disk-HDD-500GB/IC/IC_GEPAC/dados/dados_prednet_mono/raw/2012/*/*')\n",
    "DATA_DIR_3 = glob('/media/daniel/Local-Disk-HDD-500GB/IC/IC_GEPAC/dados/dados_prednet_mono/raw/2011/*/*')\n",
    "print len(DATA_DIR)\n",
    "print len(DATA_DIR_2)\n",
    "print len (DATA_DIR_3)\n",
    "nt = 15\n",
    "total = len(DATA_DIR)+len(DATA_DIR_2)+len(DATA_DIR_3)\n",
    "test = 15*(total)/100\n",
    "val =  5*(total)/100                         \n",
    "print 'Imagens para teste:',float(test),',',float(test)/96,'Dias'\n",
    "print 'Imagens para Validar:',float(val),',',float(val)/96,'Dias'\n",
    "print 'Imagens no conjunto de treinamento:',(total-(test+val)),',',(total-(test+val))/96,'Dias'\n",
    "print 'Sequencias Treinamento:',(total-(test+val))/nt\n",
    "print 'Sequencias Teste:',float(test)/nt\n",
    "print 'Sequencias Val:',float(val)/nt\n"
   ]
  },
  {
   "cell_type": "code",
   "execution_count": 5,
   "metadata": {
    "collapsed": true
   },
   "outputs": [],
   "source": [
    "\n",
    "test=hkl.load('/home/daniel/AnacondaProjects/prednet-master_2/kitti_data/X_test.hkl')\n",
    "train = hkl.load('/home/daniel/AnacondaProjects/prednet-master_2/kitti_data/X_train.hkl')\n",
    "val = hkl.load('/home/daniel/AnacondaProjects/prednet-master_2/kitti_data/X_val.hkl')"
   ]
  },
  {
   "cell_type": "code",
   "execution_count": 6,
   "metadata": {},
   "outputs": [
    {
     "name": "stdout",
     "output_type": "stream",
     "text": [
      "(88581, 128, 160, 3)\n",
      "(15302, 128, 160, 3)\n",
      "(5020, 128, 160, 3)\n"
     ]
    }
   ],
   "source": [
    "print train.shape\n",
    "print test.shape\n",
    "print val.shape"
   ]
  },
  {
   "cell_type": "code",
   "execution_count": 33,
   "metadata": {},
   "outputs": [
    {
     "name": "stdout",
     "output_type": "stream",
     "text": [
      "162 53\n"
     ]
    }
   ],
   "source": [
    "#testando esse bloco(Seleciona imagens para teste e para validação)\n",
    "test_recordings = []\n",
    "val_recordings = []\n",
    "Dir = glob('/media/daniel/Local-Disk-HDD-500GB/IC/IC_GEPAC/dados/imgs/raw/201*/*')\n",
    "count = 0\n",
    "while count <= 161:\n",
    "    test_recordings.append(random.choice(Dir))\n",
    "    count = count + 1\n",
    "count = 0\n",
    "while count <= 53:\n",
    "    a = random.choice(Dir)\n",
    "    for each_t in test_recordings:\n",
    "        if a != each_t:\n",
    "            val_recordings.append(a)\n",
    "\n",
    "    count = count + 1\n",
    "val_recordings=OrderedDict.fromkeys(val_recordings)\n",
    "\n",
    "day=[]\n",
    "year=[]\n",
    "\n",
    "for each_day in test_recordings:\n",
    "    day.append(os.path.basename(each_day))\n",
    "    year.append(os.path.basename(os.path.dirname(each_day)))\n",
    "year_day_test = zip(year, day)\n",
    "\n",
    "day_v=[] \n",
    "year_v =[]\n",
    "for each_day in val_recordings:\n",
    "    day_v.append(os.path.basename(each_day))\n",
    "    year_v.append(os.path.basename(os.path.dirname(each_day)))\n",
    "year_day_val = zip(year_v, day_v)\n",
    "\n",
    "test_recordings=year_day_test\n",
    "val_recordings=year_day_val\n"
   ]
  },
  {
   "cell_type": "code",
   "execution_count": 34,
   "metadata": {},
   "outputs": [
    {
     "name": "stderr",
     "output_type": "stream",
     "text": [
      "100% (100 of 100) |#######################| Elapsed Time: 0:00:02 Time: 0:00:02\n"
     ]
    }
   ],
   "source": [
    "#Teste progressbar\n",
    "import time\n",
    "import progressbar\n",
    "\n",
    "bar = progressbar.ProgressBar()\n",
    "for i in bar(range(100)):\n",
    "    time.sleep(0.02)"
   ]
  },
  {
   "cell_type": "code",
   "execution_count": 39,
   "metadata": {},
   "outputs": [
    {
     "name": "stdout",
     "output_type": "stream",
     "text": [
      "15\n",
      "30\n",
      "45\n",
      "60\n",
      "75\n",
      "90\n",
      "105\n",
      "120\n",
      "135\n",
      "150\n",
      "165\n",
      "180\n",
      "195\n",
      "210\n",
      "225\n",
      "240\n",
      "255\n",
      "270\n",
      "285\n",
      "300\n",
      "315\n",
      "330\n",
      "345\n",
      "360\n",
      "375\n",
      "390\n",
      "405\n",
      "420\n",
      "435\n",
      "450\n",
      "465\n",
      "480\n",
      "495\n",
      "510\n",
      "525\n",
      "540\n",
      "555\n",
      "570\n",
      "585\n",
      "600\n"
     ]
    }
   ],
   "source": [
    "count = 0\n",
    "while count <= 590:\n",
    "    count= count+15\n",
    "    print count\n",
    "    "
   ]
  },
  {
   "cell_type": "code",
   "execution_count": null,
   "metadata": {
    "collapsed": true
   },
   "outputs": [],
   "source": []
  }
 ],
 "metadata": {
  "kernelspec": {
   "display_name": "Python 2",
   "language": "python",
   "name": "python2"
  },
  "language_info": {
   "codemirror_mode": {
    "name": "ipython",
    "version": 2
   },
   "file_extension": ".py",
   "mimetype": "text/x-python",
   "name": "python",
   "nbconvert_exporter": "python",
   "pygments_lexer": "ipython2",
   "version": "2.7.13"
  }
 },
 "nbformat": 4,
 "nbformat_minor": 2
}
